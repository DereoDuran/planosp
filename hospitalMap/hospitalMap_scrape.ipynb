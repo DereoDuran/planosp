{
 "cells": [
  {
   "cell_type": "code",
   "execution_count": 267,
   "metadata": {},
   "outputs": [],
   "source": [
    "import pandas as pd\n",
    "import seaborn as sns\n",
    "import matplotlib.pyplot as plt\n",
    "%matplotlib inline\n",
    "import json\n",
    "import numpy as np\n",
    "pd.set_option('display.max_rows', 50)\n",
    "pd.set_option('display.max_columns', 50)"
   ]
  },
  {
   "cell_type": "markdown",
   "metadata": {},
   "source": [
    "Mapa de hospitais mais recente que encontrei vem da seguinte deliberação da secretaria de estado da saude de sp:\n",
    "\n",
    "Deliberação Nº 47 - CIB - 10 de Junho de 2020 \n",
    "https://ses.sp.bvs.br/leisref/resource/?id=leisref.act.5212\n",
    "\n",
    "ftp://ftp.saude.sp.gov.br/ftpsessp/bibliote/informe_eletronico/2020/iels.jun.20/Iels105/E_DL-CIB-47_100620.pdf\n",
    "\n",
    "http://portal.saude.sp.gov.br/resources/ses/perfil/cidadao/homepage-new/outros-destaques/covid-19/delib_cib_planilha_covid_09_04_2020.pdf"
   ]
  },
  {
   "cell_type": "code",
   "execution_count": 268,
   "metadata": {},
   "outputs": [],
   "source": [
    "df = pd.read_csv('mapa_hospitais_cleaner.csv', sep=';')\n",
    "# df = df.applymap(lambda x: x.replace('\\n',' ') if isinstance(x,str) else x)"
   ]
  },
  {
   "cell_type": "code",
   "execution_count": 269,
   "metadata": {},
   "outputs": [
    {
     "data": {
      "text/html": [
       "<div>\n",
       "<style scoped>\n",
       "    .dataframe tbody tr th:only-of-type {\n",
       "        vertical-align: middle;\n",
       "    }\n",
       "\n",
       "    .dataframe tbody tr th {\n",
       "        vertical-align: top;\n",
       "    }\n",
       "\n",
       "    .dataframe thead th {\n",
       "        text-align: right;\n",
       "    }\n",
       "</style>\n",
       "<table border=\"1\" class=\"dataframe\">\n",
       "  <thead>\n",
       "    <tr style=\"text-align: right;\">\n",
       "      <th></th>\n",
       "      <th>DRS</th>\n",
       "      <th>DRSNOME</th>\n",
       "      <th>REGSAUDE</th>\n",
       "      <th>MUNICIPIO</th>\n",
       "      <th>CNES</th>\n",
       "      <th>NOME</th>\n",
       "      <th>GESTAO</th>\n",
       "      <th>GRUPO_DE_HOSPITAIS</th>\n",
       "      <th>LEITOS_CLIN_ANTERIOR_A_COVID</th>\n",
       "      <th>LEITOS_CLIN_SUS</th>\n",
       "      <th>LEITOS_CLIN_EXISTENTE_CONVERTIDO_PARA_COVID</th>\n",
       "      <th>LEITO_CLINICO_AMPLIADO_EM_FUNCIONAMENTO</th>\n",
       "      <th>LEITO_CLINICO_PARA_AMPLIACAO_FUTURA</th>\n",
       "      <th>UTI_ADULTO_EXISTE</th>\n",
       "      <th>UTI_ADULTO_SUS</th>\n",
       "      <th>UTI_ADULTO_EXISTENTE_CONVERTIDO_PARA_COVID</th>\n",
       "      <th>UTI_ADULTO_AMPLIACAO_HABIMEDIATA_REMESSA_1</th>\n",
       "      <th>UTI_ADULTO_AMPLIACAO_HABIMEDIATA_REMESSA_2</th>\n",
       "      <th>UTI_ADULTO_AMPLIACAO_HABIMEDIATA_REMESSA_3</th>\n",
       "      <th>UTI_ADULTO_AMPLIACAO_HABIMEDIATA_REMESSA_4</th>\n",
       "      <th>UTI_ADULTO_AMPLIACAO_HABIMEDIATA_REMESSA_5</th>\n",
       "      <th>UTI_ADULTO_AMPLIACAO_HABIMEDIATA_REMESSA_6</th>\n",
       "    </tr>\n",
       "  </thead>\n",
       "  <tbody>\n",
       "    <tr>\n",
       "      <th>0</th>\n",
       "      <td>1</td>\n",
       "      <td>GRANDE S. PAULO</td>\n",
       "      <td>Alto do Tiete</td>\n",
       "      <td>ARUJA</td>\n",
       "      <td>6451098.0</td>\n",
       "      <td>HOSPITAL DALILA FERREIRA BARBOSA</td>\n",
       "      <td>M</td>\n",
       "      <td>Municipais</td>\n",
       "      <td>9.0</td>\n",
       "      <td>9</td>\n",
       "      <td>-</td>\n",
       "      <td>-</td>\n",
       "      <td>NaN</td>\n",
       "      <td>-</td>\n",
       "      <td>-</td>\n",
       "      <td>-</td>\n",
       "      <td>-</td>\n",
       "      <td>-</td>\n",
       "      <td>NaN</td>\n",
       "      <td>NaN</td>\n",
       "      <td>NaN</td>\n",
       "      <td>NaN</td>\n",
       "    </tr>\n",
       "    <tr>\n",
       "      <th>1</th>\n",
       "      <td>1</td>\n",
       "      <td>GRANDE S. PAULO</td>\n",
       "      <td>Alto do Tiete</td>\n",
       "      <td>ARUJA</td>\n",
       "      <td>6628842.0</td>\n",
       "      <td>PRONTO ATENDIMENTO BARRETO</td>\n",
       "      <td>M</td>\n",
       "      <td>Municipais</td>\n",
       "      <td>NaN</td>\n",
       "      <td>NaN</td>\n",
       "      <td>NaN</td>\n",
       "      <td>NaN</td>\n",
       "      <td>NaN</td>\n",
       "      <td>NaN</td>\n",
       "      <td>NaN</td>\n",
       "      <td>NaN</td>\n",
       "      <td>NaN</td>\n",
       "      <td>NaN</td>\n",
       "      <td>NaN</td>\n",
       "      <td>10</td>\n",
       "      <td>NaN</td>\n",
       "      <td>NaN</td>\n",
       "    </tr>\n",
       "    <tr>\n",
       "      <th>2</th>\n",
       "      <td>1</td>\n",
       "      <td>GRANDE S. PAULO</td>\n",
       "      <td>Alto do Tiete</td>\n",
       "      <td>BIRITIBA MIRIM</td>\n",
       "      <td>NaN</td>\n",
       "      <td>POSTO DE ATENDIMENTO COVID</td>\n",
       "      <td>M</td>\n",
       "      <td>Municipais</td>\n",
       "      <td>NaN</td>\n",
       "      <td>NaN</td>\n",
       "      <td>NaN</td>\n",
       "      <td>NaN</td>\n",
       "      <td>NaN</td>\n",
       "      <td>NaN</td>\n",
       "      <td>NaN</td>\n",
       "      <td>NaN</td>\n",
       "      <td>NaN</td>\n",
       "      <td>NaN</td>\n",
       "      <td>NaN</td>\n",
       "      <td>NaN</td>\n",
       "      <td>NaN</td>\n",
       "      <td>NaN</td>\n",
       "    </tr>\n",
       "    <tr>\n",
       "      <th>3</th>\n",
       "      <td>1</td>\n",
       "      <td>GRANDE S. PAULO</td>\n",
       "      <td>Alto do Tiete</td>\n",
       "      <td>FERRAZ DE\\nVASCONCELOS</td>\n",
       "      <td>2080079.0</td>\n",
       "      <td>HOSPITAL DR OSIRIS FLORINDO\\nCOELHO FERRAZ DE VASCONCELOS</td>\n",
       "      <td>E</td>\n",
       "      <td>Estaduais-Direta</td>\n",
       "      <td>60.0</td>\n",
       "      <td>60</td>\n",
       "      <td>16</td>\n",
       "      <td>-</td>\n",
       "      <td>28</td>\n",
       "      <td>10</td>\n",
       "      <td>10</td>\n",
       "      <td>-</td>\n",
       "      <td>-</td>\n",
       "      <td>-</td>\n",
       "      <td>NaN</td>\n",
       "      <td>NaN</td>\n",
       "      <td>NaN</td>\n",
       "      <td>NaN</td>\n",
       "    </tr>\n",
       "    <tr>\n",
       "      <th>4</th>\n",
       "      <td>1</td>\n",
       "      <td>GRANDE S. PAULO</td>\n",
       "      <td>Alto do Tiete</td>\n",
       "      <td>FERRAZ DE VASCONCELOS</td>\n",
       "      <td>116750.0</td>\n",
       "      <td>HOSPITAL DE CAMPANHA DE FERRAZ/GINASIO PROF. ADÃO DIAS\\nDOS SANTOS</td>\n",
       "      <td>M</td>\n",
       "      <td>Municipais</td>\n",
       "      <td>18.0</td>\n",
       "      <td>18</td>\n",
       "      <td>NaN</td>\n",
       "      <td>20</td>\n",
       "      <td>NaN</td>\n",
       "      <td>-</td>\n",
       "      <td>-</td>\n",
       "      <td>NaN</td>\n",
       "      <td>NaN</td>\n",
       "      <td>NaN</td>\n",
       "      <td>NaN</td>\n",
       "      <td>-</td>\n",
       "      <td>NaN</td>\n",
       "      <td>NaN</td>\n",
       "    </tr>\n",
       "    <tr>\n",
       "      <th>...</th>\n",
       "      <td>...</td>\n",
       "      <td>...</td>\n",
       "      <td>...</td>\n",
       "      <td>...</td>\n",
       "      <td>...</td>\n",
       "      <td>...</td>\n",
       "      <td>...</td>\n",
       "      <td>...</td>\n",
       "      <td>...</td>\n",
       "      <td>...</td>\n",
       "      <td>...</td>\n",
       "      <td>...</td>\n",
       "      <td>...</td>\n",
       "      <td>...</td>\n",
       "      <td>...</td>\n",
       "      <td>...</td>\n",
       "      <td>...</td>\n",
       "      <td>...</td>\n",
       "      <td>...</td>\n",
       "      <td>...</td>\n",
       "      <td>...</td>\n",
       "      <td>...</td>\n",
       "    </tr>\n",
       "    <tr>\n",
       "      <th>622</th>\n",
       "      <td>17</td>\n",
       "      <td>TAUBATÉ</td>\n",
       "      <td>Circ. da Fe-V. Historico</td>\n",
       "      <td>QUELUZ</td>\n",
       "      <td>2058340.0</td>\n",
       "      <td>HOSPITAL MUNICIPAL DE QUELUZ</td>\n",
       "      <td>M</td>\n",
       "      <td>Municipais</td>\n",
       "      <td>8.0</td>\n",
       "      <td>8</td>\n",
       "      <td>2</td>\n",
       "      <td>-</td>\n",
       "      <td>NaN</td>\n",
       "      <td>-</td>\n",
       "      <td>-</td>\n",
       "      <td>-</td>\n",
       "      <td>-</td>\n",
       "      <td>-</td>\n",
       "      <td>NaN</td>\n",
       "      <td>NaN</td>\n",
       "      <td>NaN</td>\n",
       "      <td>NaN</td>\n",
       "    </tr>\n",
       "    <tr>\n",
       "      <th>623</th>\n",
       "      <td>17</td>\n",
       "      <td>TAUBATÉ</td>\n",
       "      <td>Litoral Norte</td>\n",
       "      <td>CARAGUATATUB\\nA</td>\n",
       "      <td>2082926.0</td>\n",
       "      <td>CASA DE SAUDE STELLA MARIS</td>\n",
       "      <td>M</td>\n",
       "      <td>Priv.s. fins lucrativos</td>\n",
       "      <td>50.0</td>\n",
       "      <td>40</td>\n",
       "      <td>21</td>\n",
       "      <td>-</td>\n",
       "      <td>NaN</td>\n",
       "      <td>6</td>\n",
       "      <td>6</td>\n",
       "      <td>-</td>\n",
       "      <td>7</td>\n",
       "      <td>-</td>\n",
       "      <td>NaN</td>\n",
       "      <td>NaN</td>\n",
       "      <td>NaN</td>\n",
       "      <td>NaN</td>\n",
       "    </tr>\n",
       "    <tr>\n",
       "      <th>624</th>\n",
       "      <td>17</td>\n",
       "      <td>TAUBATÉ</td>\n",
       "      <td>Litoral Norte</td>\n",
       "      <td>CARAGUATATUB\\nA</td>\n",
       "      <td>92894.0</td>\n",
       "      <td>HR LITORAL NORTE</td>\n",
       "      <td>E</td>\n",
       "      <td>Estaduais-OSS</td>\n",
       "      <td>93.0</td>\n",
       "      <td>93</td>\n",
       "      <td>-</td>\n",
       "      <td>73</td>\n",
       "      <td>NaN</td>\n",
       "      <td>-</td>\n",
       "      <td>-</td>\n",
       "      <td>-</td>\n",
       "      <td>10</td>\n",
       "      <td>-</td>\n",
       "      <td>NaN</td>\n",
       "      <td>NaN</td>\n",
       "      <td>NaN</td>\n",
       "      <td>NaN</td>\n",
       "    </tr>\n",
       "    <tr>\n",
       "      <th>625</th>\n",
       "      <td>17</td>\n",
       "      <td>TAUBATÉ</td>\n",
       "      <td>Litoral Norte</td>\n",
       "      <td>ILHABELA</td>\n",
       "      <td>2747871.0</td>\n",
       "      <td>HOSPITAL MUNICIPAL GOV MARIO\\nCOVAS JR</td>\n",
       "      <td>M</td>\n",
       "      <td>Municipais</td>\n",
       "      <td>30.0</td>\n",
       "      <td>30</td>\n",
       "      <td>2</td>\n",
       "      <td>-</td>\n",
       "      <td>NaN</td>\n",
       "      <td>-</td>\n",
       "      <td>-</td>\n",
       "      <td>-</td>\n",
       "      <td>6</td>\n",
       "      <td>-</td>\n",
       "      <td>NaN</td>\n",
       "      <td>NaN</td>\n",
       "      <td>NaN</td>\n",
       "      <td>NaN</td>\n",
       "    </tr>\n",
       "    <tr>\n",
       "      <th>626</th>\n",
       "      <td>17</td>\n",
       "      <td>TAUBATÉ</td>\n",
       "      <td>Litoral Norte</td>\n",
       "      <td>SAO SEBASTIAO</td>\n",
       "      <td>2765934.0</td>\n",
       "      <td>HOSPITAL DE CLINICAS DE SAO\\nSEBASTIAO</td>\n",
       "      <td>M</td>\n",
       "      <td>Priv.s. fins lucrativos</td>\n",
       "      <td>53.0</td>\n",
       "      <td>47</td>\n",
       "      <td>16</td>\n",
       "      <td>-</td>\n",
       "      <td>NaN</td>\n",
       "      <td>8</td>\n",
       "      <td>7</td>\n",
       "      <td>-</td>\n",
       "      <td>2</td>\n",
       "      <td>-</td>\n",
       "      <td>NaN</td>\n",
       "      <td>22</td>\n",
       "      <td>NaN</td>\n",
       "      <td>NaN</td>\n",
       "    </tr>\n",
       "  </tbody>\n",
       "</table>\n",
       "<p>627 rows × 22 columns</p>\n",
       "</div>"
      ],
      "text/plain": [
       "     DRS          DRSNOME                  REGSAUDE               MUNICIPIO  \\\n",
       "0      1  GRANDE S. PAULO             Alto do Tiete                   ARUJA   \n",
       "1      1  GRANDE S. PAULO             Alto do Tiete                   ARUJA   \n",
       "2      1  GRANDE S. PAULO             Alto do Tiete          BIRITIBA MIRIM   \n",
       "3      1  GRANDE S. PAULO             Alto do Tiete  FERRAZ DE\\nVASCONCELOS   \n",
       "4      1  GRANDE S. PAULO             Alto do Tiete   FERRAZ DE VASCONCELOS   \n",
       "..   ...              ...                       ...                     ...   \n",
       "622   17          TAUBATÉ  Circ. da Fe-V. Historico                  QUELUZ   \n",
       "623   17          TAUBATÉ             Litoral Norte         CARAGUATATUB\\nA   \n",
       "624   17          TAUBATÉ             Litoral Norte         CARAGUATATUB\\nA   \n",
       "625   17          TAUBATÉ             Litoral Norte                ILHABELA   \n",
       "626   17          TAUBATÉ             Litoral Norte           SAO SEBASTIAO   \n",
       "\n",
       "          CNES  \\\n",
       "0    6451098.0   \n",
       "1    6628842.0   \n",
       "2          NaN   \n",
       "3    2080079.0   \n",
       "4     116750.0   \n",
       "..         ...   \n",
       "622  2058340.0   \n",
       "623  2082926.0   \n",
       "624    92894.0   \n",
       "625  2747871.0   \n",
       "626  2765934.0   \n",
       "\n",
       "                                                                   NOME  \\\n",
       "0                                      HOSPITAL DALILA FERREIRA BARBOSA   \n",
       "1                                            PRONTO ATENDIMENTO BARRETO   \n",
       "2                                            POSTO DE ATENDIMENTO COVID   \n",
       "3             HOSPITAL DR OSIRIS FLORINDO\\nCOELHO FERRAZ DE VASCONCELOS   \n",
       "4    HOSPITAL DE CAMPANHA DE FERRAZ/GINASIO PROF. ADÃO DIAS\\nDOS SANTOS   \n",
       "..                                                                  ...   \n",
       "622                                        HOSPITAL MUNICIPAL DE QUELUZ   \n",
       "623                                          CASA DE SAUDE STELLA MARIS   \n",
       "624                                                    HR LITORAL NORTE   \n",
       "625                              HOSPITAL MUNICIPAL GOV MARIO\\nCOVAS JR   \n",
       "626                              HOSPITAL DE CLINICAS DE SAO\\nSEBASTIAO   \n",
       "\n",
       "    GESTAO       GRUPO_DE_HOSPITAIS  LEITOS_CLIN_ANTERIOR_A_COVID  \\\n",
       "0        M               Municipais                           9.0   \n",
       "1        M               Municipais                           NaN   \n",
       "2        M               Municipais                           NaN   \n",
       "3        E         Estaduais-Direta                          60.0   \n",
       "4        M               Municipais                          18.0   \n",
       "..     ...                      ...                           ...   \n",
       "622      M               Municipais                           8.0   \n",
       "623      M  Priv.s. fins lucrativos                          50.0   \n",
       "624      E            Estaduais-OSS                          93.0   \n",
       "625      M               Municipais                          30.0   \n",
       "626      M  Priv.s. fins lucrativos                          53.0   \n",
       "\n",
       "    LEITOS_CLIN_SUS LEITOS_CLIN_EXISTENTE_CONVERTIDO_PARA_COVID  \\\n",
       "0                 9                                           -   \n",
       "1               NaN                                         NaN   \n",
       "2               NaN                                         NaN   \n",
       "3                60                                          16   \n",
       "4                18                                         NaN   \n",
       "..              ...                                         ...   \n",
       "622               8                                           2   \n",
       "623              40                                          21   \n",
       "624              93                                           -   \n",
       "625              30                                           2   \n",
       "626              47                                          16   \n",
       "\n",
       "    LEITO_CLINICO_AMPLIADO_EM_FUNCIONAMENTO  \\\n",
       "0                                         -   \n",
       "1                                       NaN   \n",
       "2                                       NaN   \n",
       "3                                         -   \n",
       "4                                        20   \n",
       "..                                      ...   \n",
       "622                                       -   \n",
       "623                                       -   \n",
       "624                                      73   \n",
       "625                                       -   \n",
       "626                                       -   \n",
       "\n",
       "    LEITO_CLINICO_PARA_AMPLIACAO_FUTURA UTI_ADULTO_EXISTE UTI_ADULTO_SUS  \\\n",
       "0                                   NaN                 -              -   \n",
       "1                                   NaN               NaN            NaN   \n",
       "2                                   NaN               NaN            NaN   \n",
       "3                                    28                10             10   \n",
       "4                                   NaN                 -              -   \n",
       "..                                  ...               ...            ...   \n",
       "622                                 NaN                 -              -   \n",
       "623                                 NaN                 6              6   \n",
       "624                                 NaN                 -              -   \n",
       "625                                 NaN                 -              -   \n",
       "626                                 NaN                 8              7   \n",
       "\n",
       "    UTI_ADULTO_EXISTENTE_CONVERTIDO_PARA_COVID  \\\n",
       "0                                            -   \n",
       "1                                          NaN   \n",
       "2                                          NaN   \n",
       "3                                            -   \n",
       "4                                          NaN   \n",
       "..                                         ...   \n",
       "622                                          -   \n",
       "623                                          -   \n",
       "624                                          -   \n",
       "625                                          -   \n",
       "626                                          -   \n",
       "\n",
       "    UTI_ADULTO_AMPLIACAO_HABIMEDIATA_REMESSA_1  \\\n",
       "0                                            -   \n",
       "1                                          NaN   \n",
       "2                                          NaN   \n",
       "3                                            -   \n",
       "4                                          NaN   \n",
       "..                                         ...   \n",
       "622                                          -   \n",
       "623                                          7   \n",
       "624                                         10   \n",
       "625                                          6   \n",
       "626                                          2   \n",
       "\n",
       "    UTI_ADULTO_AMPLIACAO_HABIMEDIATA_REMESSA_2  \\\n",
       "0                                            -   \n",
       "1                                          NaN   \n",
       "2                                          NaN   \n",
       "3                                            -   \n",
       "4                                          NaN   \n",
       "..                                         ...   \n",
       "622                                          -   \n",
       "623                                          -   \n",
       "624                                          -   \n",
       "625                                          -   \n",
       "626                                          -   \n",
       "\n",
       "    UTI_ADULTO_AMPLIACAO_HABIMEDIATA_REMESSA_3  \\\n",
       "0                                          NaN   \n",
       "1                                          NaN   \n",
       "2                                          NaN   \n",
       "3                                          NaN   \n",
       "4                                          NaN   \n",
       "..                                         ...   \n",
       "622                                        NaN   \n",
       "623                                        NaN   \n",
       "624                                        NaN   \n",
       "625                                        NaN   \n",
       "626                                        NaN   \n",
       "\n",
       "    UTI_ADULTO_AMPLIACAO_HABIMEDIATA_REMESSA_4  \\\n",
       "0                                          NaN   \n",
       "1                                           10   \n",
       "2                                          NaN   \n",
       "3                                          NaN   \n",
       "4                                            -   \n",
       "..                                         ...   \n",
       "622                                        NaN   \n",
       "623                                        NaN   \n",
       "624                                        NaN   \n",
       "625                                        NaN   \n",
       "626                                         22   \n",
       "\n",
       "    UTI_ADULTO_AMPLIACAO_HABIMEDIATA_REMESSA_5  \\\n",
       "0                                          NaN   \n",
       "1                                          NaN   \n",
       "2                                          NaN   \n",
       "3                                          NaN   \n",
       "4                                          NaN   \n",
       "..                                         ...   \n",
       "622                                        NaN   \n",
       "623                                        NaN   \n",
       "624                                        NaN   \n",
       "625                                        NaN   \n",
       "626                                        NaN   \n",
       "\n",
       "    UTI_ADULTO_AMPLIACAO_HABIMEDIATA_REMESSA_6  \n",
       "0                                          NaN  \n",
       "1                                          NaN  \n",
       "2                                          NaN  \n",
       "3                                          NaN  \n",
       "4                                          NaN  \n",
       "..                                         ...  \n",
       "622                                        NaN  \n",
       "623                                        NaN  \n",
       "624                                        NaN  \n",
       "625                                        NaN  \n",
       "626                                        NaN  \n",
       "\n",
       "[627 rows x 22 columns]"
      ]
     },
     "execution_count": 269,
     "metadata": {},
     "output_type": "execute_result"
    }
   ],
   "source": [
    "df"
   ]
  },
  {
   "cell_type": "code",
   "execution_count": 270,
   "metadata": {},
   "outputs": [
    {
     "data": {
      "text/plain": [
       "Index(['DRS', 'DRSNOME', 'REGSAUDE', 'MUNICIPIO', 'CNES', 'NOME', 'GESTAO',\n",
       "       'GRUPO_DE_HOSPITAIS', 'LEITOS_CLIN_ANTERIOR_A_COVID', 'LEITOS_CLIN_SUS',\n",
       "       'LEITOS_CLIN_EXISTENTE_CONVERTIDO_PARA_COVID',\n",
       "       'LEITO_CLINICO_AMPLIADO_EM_FUNCIONAMENTO',\n",
       "       'LEITO_CLINICO_PARA_AMPLIACAO_FUTURA', 'UTI_ADULTO_EXISTE',\n",
       "       'UTI_ADULTO_SUS', 'UTI_ADULTO_EXISTENTE_CONVERTIDO_PARA_COVID',\n",
       "       'UTI_ADULTO_AMPLIACAO_HABIMEDIATA_REMESSA_1',\n",
       "       'UTI_ADULTO_AMPLIACAO_HABIMEDIATA_REMESSA_2',\n",
       "       'UTI_ADULTO_AMPLIACAO_HABIMEDIATA_REMESSA_3',\n",
       "       'UTI_ADULTO_AMPLIACAO_HABIMEDIATA_REMESSA_4',\n",
       "       'UTI_ADULTO_AMPLIACAO_HABIMEDIATA_REMESSA_5',\n",
       "       'UTI_ADULTO_AMPLIACAO_HABIMEDIATA_REMESSA_6'],\n",
       "      dtype='object')"
      ]
     },
     "execution_count": 270,
     "metadata": {},
     "output_type": "execute_result"
    }
   ],
   "source": [
    "df.columns"
   ]
  },
  {
   "cell_type": "code",
   "execution_count": 271,
   "metadata": {},
   "outputs": [
    {
     "data": {
      "text/plain": [
       "array([ 1,  2,  3,  4,  5,  6,  7,  8,  9, 10, 11, 12, 13, 14, 15, 16, 17])"
      ]
     },
     "execution_count": 271,
     "metadata": {},
     "output_type": "execute_result"
    }
   ],
   "source": [
    "df['DRS'].unique()"
   ]
  },
  {
   "cell_type": "code",
   "execution_count": 272,
   "metadata": {},
   "outputs": [
    {
     "data": {
      "text/plain": [
       "array(['GRANDE S. PAULO', 'ARAÇATUBA', 'ARARAQUARA', 'BAIXADA SANTISTA',\n",
       "       'BARRETOS', 'BAURU', 'CAMPINAS', 'FRANCA', 'MARÍLIA', 'PIRACICABA',\n",
       "       'PRESIDENTE PRUDENTE', 'REGISTRO', 'RIBEIRÃO PRETO',\n",
       "       'S. JOÃO B. VISTA', 'S. JOSÉ R. PRETO', 'SOROCABA', 'TAUBATÉ'],\n",
       "      dtype=object)"
      ]
     },
     "execution_count": 272,
     "metadata": {},
     "output_type": "execute_result"
    }
   ],
   "source": [
    "df['DRSNOME'] = df['DRSNOME'].apply(lambda x: x.replace('\\n', ' '))\n",
    "df['DRSNOME'].unique()"
   ]
  },
  {
   "cell_type": "code",
   "execution_count": 273,
   "metadata": {},
   "outputs": [],
   "source": [
    "for i in df['REGSAUDE']:\n",
    "    if '\\n' in i: print(i)"
   ]
  },
  {
   "cell_type": "code",
   "execution_count": 274,
   "metadata": {},
   "outputs": [
    {
     "data": {
      "text/plain": [
       "array(['Alto do Tiete', 'Franco da Rocha', 'Grande ABC', 'Mananciais',\n",
       "       'Rota dos Bandeirantes', 'Sao Paulo', 'Central do DRS II',\n",
       "       'Consorcio do DRS II', 'Lagos do DRS II', 'Central do DRS III',\n",
       "       'Centro Oeste do DRS III', 'Coracao do DRS III',\n",
       "       'Norte do DRS III', 'Baixada Santista', 'Norte - Barretos',\n",
       "       'Sul - Barretos', 'Bauru', 'Jau', 'Lins', 'Polo Cuesta',\n",
       "       'Vale do Jurumirim', 'Braganca', 'Circuito das aguas', 'Jundiai',\n",
       "       'Reg. Metrop. Campinas', 'Alta Anhanguera', 'Alta Mogiana',\n",
       "       'Tres Colinas', 'Adamantina', 'Assis', 'Marilia', 'Ourinhos',\n",
       "       'Tupa', 'Araras', 'Limeira', 'Piracicaba', 'Rio Claro',\n",
       "       'Alta Paulista', 'Alta Sorocabana', 'Alto Capivari',\n",
       "       'Extremo Oeste Paulista', 'Pontal do Paranapanema',\n",
       "       'Vale do Ribeira', 'Aquifero Guarani', 'Horizonte Verde',\n",
       "       'Vale das Cachoeiras', 'Baixa Mogiana', 'Mantiqueira', 'Rio Pardo',\n",
       "       'Catanduva', 'Fernandopolis', 'Jales', 'Jose Bonifacio',\n",
       "       'Santa Fe do Sul', 'Sao Jose do Rio Preto', 'Votuporanga',\n",
       "       'Itapetininga', 'Itapeva', 'Sorocaba', 'Alto Vale do Paraiba',\n",
       "       'Circ. da Fe-V. Historico', 'Litoral Norte'], dtype=object)"
      ]
     },
     "execution_count": 274,
     "metadata": {},
     "output_type": "execute_result"
    }
   ],
   "source": [
    "df['REGSAUDE'].unique()"
   ]
  },
  {
   "cell_type": "code",
   "execution_count": 275,
   "metadata": {},
   "outputs": [
    {
     "data": {
      "text/plain": [
       "333"
      ]
     },
     "execution_count": 275,
     "metadata": {},
     "output_type": "execute_result"
    }
   ],
   "source": [
    "df['MUNICIPIO'].nunique()"
   ]
  },
  {
   "cell_type": "code",
   "execution_count": 276,
   "metadata": {},
   "outputs": [
    {
     "data": {
      "text/plain": [
       "array(['ARUJA', 'BIRITIBA MIRIM', 'FERRAZ DE VASCONCELOS', 'GUARAREMA',\n",
       "       'GUARULHOS', 'ITAQUAQUECETUBA', 'MOGI DAS CRUZES', 'POA',\n",
       "       'SALESOPOLIS', 'SANTA ISABEL', 'SUZANO', 'CAIEIRAS', 'CAJAMAR',\n",
       "       'FRANCISCO MORATO', 'FRANCO DA ROCHA', 'MAIRIPORA', 'DIADEMA',\n",
       "       'MAUA', 'RIBEIRAO PIRES', 'SANTO ANDRE', 'SAO BERNARDO DO CAMPO',\n",
       "       'SAO CAETANO DO SUL', 'COTIA', 'EMBU', 'ITAPECERICA DA SERRA',\n",
       "       'TABOAO DA SERRA', 'BARUERI', 'CARAPICUIBA', 'ITAPEVI', 'OSASCO',\n",
       "       'Osasco', 'SANTANA DE PARNAIBA', 'SAO PAULO', 'SÃO PAULO',\n",
       "       'ARACATUBA', 'AURIFLAMA', 'BILAC', 'GUARARAPES', 'VALPARAISO',\n",
       "       'ALTO ALEGRE', 'BIRIGUI', 'BURITAMA', 'CLEMENTINA', 'PENAPOLIS',\n",
       "       'ANDRADINA', 'CASTILHO', 'GUARACAI', 'ILHA SOLTEIRA',\n",
       "       'MIRANDOPOLIS', 'PEREIRA BARRETO', 'SUD MENNUCCI',\n",
       "       'AMERICO BRASILIENSE', 'AMERICO BRASILI', 'ARARAQUARA',\n",
       "       'BOA ESPERANCA DO SUL', 'BORBOREMA', 'IBITINGA', 'ITAPOLIS',\n",
       "       'NOVA EUROPA', 'TABATINGA', 'DESCALVADO', 'DOURADO', 'IBATE',\n",
       "       'PORTO FERREIRA', 'RIBEIRAO BONITO', 'SAO CARLOS', 'MATAO',\n",
       "       'TAQUARITINGA', 'BERTIOGA', 'CUBATAO', 'GUARUJA', 'ITANHAEM',\n",
       "       'PRAIA GRANDE', 'SANTOS', 'SAO VICENTE', 'BARRETOS', 'CAJOBI',\n",
       "       'COLINA', 'GUAIRA', 'JABORANDI', 'OLIMPIA', 'BEBEDOURO',\n",
       "       'MONTE AZUL PAULISTA', 'TERRA ROXA', 'VIRADOURO', 'AGUDOS',\n",
       "       'AREALVA', 'BAURU', 'DUARTINA', 'IACANGA', 'LENCOIS PAULISTA',\n",
       "       'MACATUBA', 'PEDERNEIRAS', 'PIRAJUI', 'PIRATININGA', 'BARIRI',\n",
       "       'BARRA BONITA', 'BOCAINA', 'BROTAS', 'DOIS CORREGOS', 'ITAPUI',\n",
       "       'JAU', 'TORRINHA', 'CAFELANDIA', 'GETULINA', 'LINS', 'PROMISSAO',\n",
       "       'BOTUCATU', 'CONCHAS', 'ITATINGA', 'LARANJAL PAULISTA',\n",
       "       'SAO MANUEL', 'ARANDU', 'AVARE', 'CERQUEIRA CESAR', 'FARTURA',\n",
       "       'ITAI', 'ITAPORANGA', 'PARANAPANEMA', 'PIRAJU', 'TAGUAI',\n",
       "       'TAQUARITUBA', 'ATIBAIA', 'BRAGANCA PAULISTA', 'JOANOPOLIS',\n",
       "       'NAZARE PAULISTA', 'PIRACAIA', 'SOCORRO', 'AGUAS DE LINDOIA',\n",
       "       'AMPARO', 'SERRA NEGRA', 'CABREUVA', 'CAMPO LIMPO PAULISTA',\n",
       "       'ITUPEVA', 'JUNDIAI', 'LOUVEIRA', 'VARZEA PAULISTA', 'AMERICANA',\n",
       "       'CAMPINAS', 'COSMOPOLIS', 'HORTOLANDIA', 'INDAIATUBA', 'ITATIBA',\n",
       "       'JAGUARIUNA', 'MONTE MOR', 'MORUNGABA', 'NOVA ODESSA', 'PAULINIA',\n",
       "       'PEDREIRA', \"SANTA BARBARA D'OESTE\", 'SUMARE', 'VALINHOS',\n",
       "       'VINHEDO', 'ARTUR NOGUEIRA', 'IPUA', 'MORRO AGUDO', 'ORLANDIA',\n",
       "       'SALES OLIVEIRA', 'SAO JOAQUIM DA BARRA', 'GUARA', 'IGARAPAVA',\n",
       "       'ITUVERAVA', 'MIGUELOPOLIS', 'FRANCA', 'PATROCINIO PAULISTA',\n",
       "       'PEDREGULHO', 'ADAMANTINA', 'FLORIDA PAULISTA', 'LUCELIA',\n",
       "       'OSVALDO CRUZ', 'PACAEMBU', 'ASSIS', 'CANDIDO MOTA', 'MARACAI',\n",
       "       'PALMITAL', 'PARAGUACU PAULISTA', 'GALIA', 'GARCA', 'MARILIA',\n",
       "       'POMPEIA', 'BERNARDINO DE CAMPOS', 'CHAVANTES', 'IPAUSSU',\n",
       "       'OURINHOS', 'SALTO GRANDE', 'SANTA CRUZ DO RIO PARDO', 'BASTOS',\n",
       "       'HERCULANDIA', 'PARAPUA', 'RINOPOLIS', 'TUPA', 'ARARAS', 'CONCHAL',\n",
       "       'LEME', 'PIRASSUNUNGA', 'LIMEIRA', 'CAPIVARI', 'CHARQUEADA',\n",
       "       'PIRACICABA', 'RIO DAS PEDRAS', 'SAO PEDRO', 'ITIRAPINA',\n",
       "       'RIO CLARO', 'DRACENA', 'JUNQUEIROPOLIS', 'PANORAMA',\n",
       "       'TUPI PAULISTA', 'ALVARES MACHADO', 'MARTINOPOLIS',\n",
       "       'PRESIDENTE BERNARDES', 'PRESIDENTE PRUDENTE', 'REGENTE FEIJO',\n",
       "       'SANTO ANASTACIO', 'IEPE', 'RANCHARIA', 'PRESIDENTE EPITACIO',\n",
       "       'PRESIDENTE VENCESLAU', 'ROSANA', 'TEODORO SAMPAIO',\n",
       "       'PARIQUERA-ACU', 'REGISTRO', 'CRAVINHOS', 'RIBEIRAO PRETO',\n",
       "       'SANTA RITA DO PASSA QUATRO', 'SANTA ROSA DE VITERBO', 'SAO SIMAO',\n",
       "       'SERRANA', 'GUARIBA', 'JABOTICABAL', 'MONTE ALTO', 'PITANGUEIRAS',\n",
       "       'PONTAL', 'SERTAOZINHO', 'ALTINOPOLIS', 'BATATAIS', 'CAJURU',\n",
       "       'SANTO ANTONIO DA ALEGRIA', 'ITAPIRA', 'MOGI GUACU', 'MOJI MIRIM',\n",
       "       'ESPIRITO SANTO DO PINHAL', 'SANTA CRUZ DAS PALMEIRAS',\n",
       "       'SAO JOAO DA BOA VISTA', 'TAMBAU', 'VARGEM GRANDE DO SUL',\n",
       "       'CACONDE', 'CASA BRANCA', 'DIVINOLANDIA', 'MOCOCA',\n",
       "       'SAO JOSE DO RIO PARDO', 'SAO SEBASTIAO DA GRAMA', 'TAPIRATIBA',\n",
       "       'CATANDUVA', 'ITAJOBI', 'NOVO HORIZONTE', 'PIRANGI',\n",
       "       'SANTA ADELIA', 'URUPES', \"ESTRELA D'OESTE\", 'FERNANDOPOLIS',\n",
       "       'INDIAPORA', 'OUROESTE', 'POPULINA', \"APARECIDA D'OESTE\", 'JALES',\n",
       "       \"PALMEIRA D'OESTE\", 'URANIA', 'JACI', 'JOSE BONIFACIO',\n",
       "       'MONTE APRAZIVEL', 'SANTA FE DO SUL', 'IBIRA', 'MIRASSOL',\n",
       "       'NEVES PAULISTA', 'NOVA GRANADA', 'PAULO DE FARIA', 'POTIRENDABA',\n",
       "       'SAO JOSE DO RIO PRETO', 'TANABI', 'CARDOSO', 'GENERAL SALGADO',\n",
       "       'MACAUBAL', 'NHANDEARA', 'RIOLANDIA', 'VOTUPORANGA', 'ANGATUBA',\n",
       "       'CAPAO BONITO', 'CERQUILHO', 'CESARIO LANGE', 'ITAPETININGA',\n",
       "       'SAO MIGUEL ARCANJO', 'TATUI', 'APIAI', 'GUAPIARA', 'ITABERA',\n",
       "       'ITAPEVA', 'ITARARE', 'RIBEIRAO BRANCO', 'BOITUVA', 'IBIUNA',\n",
       "       'ITU', 'PIEDADE', 'PILAR DO SUL', 'PORTO FELIZ', 'SALTO',\n",
       "       'SALTO DE PIRAPORA', 'SAO ROQUE', 'SOROCABA', 'TIETE',\n",
       "       'VOTORANTIM', 'CACAPAVA', 'JACAREI', 'SAO JOSE DOS CAMPOS',\n",
       "       'APARECIDA', 'CACHOEIRA PAULISTA', 'CRUZEIRO', 'CUNHA',\n",
       "       'GUARATINGUETA', 'LORENA', 'QUELUZ', 'CARAGUATATUBA', 'ILHABELA',\n",
       "       'SAO SEBASTIAO'], dtype=object)"
      ]
     },
     "execution_count": 276,
     "metadata": {},
     "output_type": "execute_result"
    }
   ],
   "source": [
    "df['MUNICIPIO'] = df['MUNICIPIO'].apply(lambda x: x.replace('\\n', ' ') if x != 'CARAGUATATUB\\nA' else 'CARAGUATATUBA')\n",
    "df['MUNICIPIO'].unique()"
   ]
  },
  {
   "cell_type": "code",
   "execution_count": 277,
   "metadata": {},
   "outputs": [
    {
     "data": {
      "text/plain": [
       "array(['M', 'E'], dtype=object)"
      ]
     },
     "execution_count": 277,
     "metadata": {},
     "output_type": "execute_result"
    }
   ],
   "source": [
    "df['GESTAO'].unique()"
   ]
  },
  {
   "cell_type": "code",
   "execution_count": 278,
   "metadata": {},
   "outputs": [
    {
     "data": {
      "text/plain": [
       "array(['Municipais', 'Estaduais-Direta', 'Priv.s. fins lucrativos',\n",
       "       'Estaduais-OSS', 'Estaduais-Outros', 'Estaduais-Universitarios',\n",
       "       'Privado', 'ESTADUAL-AME'], dtype=object)"
      ]
     },
     "execution_count": 278,
     "metadata": {},
     "output_type": "execute_result"
    }
   ],
   "source": [
    "df['GRUPO_DE_HOSPITAIS'].unique()"
   ]
  },
  {
   "cell_type": "code",
   "execution_count": 279,
   "metadata": {},
   "outputs": [
    {
     "data": {
      "text/plain": [
       "count    627.000000\n",
       "mean      35.472089\n",
       "std       45.015550\n",
       "min        0.000000\n",
       "25%        9.000000\n",
       "50%       23.000000\n",
       "75%       46.500000\n",
       "max      456.000000\n",
       "Name: LEITOS_CLIN_ANTERIOR_A_COVID, dtype: float64"
      ]
     },
     "execution_count": 279,
     "metadata": {},
     "output_type": "execute_result"
    }
   ],
   "source": [
    "df['LEITOS_CLIN_ANTERIOR_A_COVID'] = df['LEITOS_CLIN_ANTERIOR_A_COVID'].apply(lambda x: int(x) if x > 0 else 0)\n",
    "df['LEITOS_CLIN_ANTERIOR_A_COVID'].describe()"
   ]
  },
  {
   "cell_type": "code",
   "execution_count": 280,
   "metadata": {},
   "outputs": [
    {
     "data": {
      "text/plain": [
       "array([  9,   0,  60,  18,  20,  15,  58,  82,  92,  55,  42,  40,  59,\n",
       "        11, 100,  90,  10,  27,  12,  26,  70,  32,  46,  30,  13,  69,\n",
       "        47,  51,  78,  33,   1,  50,  87,   3,  72,  43,  44,  31,  71,\n",
       "        81,  57,  16,   5,  37,  65,   8,  67,  21,   2,  14, 110,  93,\n",
       "       264,  17,  56,  86,  28,  35,  63,  48, 205, 190,  88, 336, 135,\n",
       "         6,  53,  79,  38,  83, 143,  64,  62,  95,  49,  39,  19,  24,\n",
       "        22,   4,  84,  54, 140,  52, 155,  36,  23,  29, 146,  25,  68,\n",
       "       163,  45,  34,   7,  91, 105,  41, 132, 231, 111, 174,  74, 123,\n",
       "        98])"
      ]
     },
     "execution_count": 280,
     "metadata": {},
     "output_type": "execute_result"
    }
   ],
   "source": [
    "df['LEITOS_CLIN_SUS'] = df['LEITOS_CLIN_SUS'].apply(lambda x: 0 if x == '-' else x).apply(lambda x: int(x) if isinstance(x, str) else 0)\n",
    "df['LEITOS_CLIN_SUS'].unique()"
   ]
  },
  {
   "cell_type": "code",
   "execution_count": 281,
   "metadata": {},
   "outputs": [
    {
     "data": {
      "text/plain": [
       "array([  0,  16,   3,  57,  35,   8,  40,  23,  10,  15,   4,   6,  26,\n",
       "        28,  11,  24,  30,   2,  32,  64,   5,  34,  48,  60,  14,  19,\n",
       "        12,  46,  38,  25,  80,  20,  78, 336,  22,  44,   7,   9,   1,\n",
       "        29,  18,  31,  13,  50,  43,  55,  58,  17,  71, 103,  45,  21])"
      ]
     },
     "execution_count": 281,
     "metadata": {},
     "output_type": "execute_result"
    }
   ],
   "source": [
    "df['LEITOS_CLIN_EXISTENTE_CONVERTIDO_PARA_COVID'] = df['LEITOS_CLIN_EXISTENTE_CONVERTIDO_PARA_COVID'].apply(lambda x: 0 if x == '-' else x).apply(lambda x: int(x) if isinstance(x, str) else 0)\n",
    "df['LEITOS_CLIN_EXISTENTE_CONVERTIDO_PARA_COVID'].unique()"
   ]
  },
  {
   "cell_type": "code",
   "execution_count": 282,
   "metadata": {},
   "outputs": [
    {
     "data": {
      "text/plain": [
       "array([  0,  20,   4,  70,   5,  22,  50,  30,  35,  11,  14, 160, 110,\n",
       "        90,  81, 162,  12, 100,  36,  40,   6,  23,  27,  72,  10,   2,\n",
       "        15,   8,  24,  18,  29,  16, 200, 294, 518, 240,  28,   7,  25,\n",
       "        19,  56,  41,  26,  17,   3,  31,  42,  80,   1,  39, 177,   9,\n",
       "        73])"
      ]
     },
     "execution_count": 282,
     "metadata": {},
     "output_type": "execute_result"
    }
   ],
   "source": [
    "df['LEITO_CLINICO_AMPLIADO_EM_FUNCIONAMENTO'] = df['LEITO_CLINICO_AMPLIADO_EM_FUNCIONAMENTO'].apply(lambda x: 0 if x == '-' else x).apply(lambda x: int(x) if isinstance(x, str) else 0)\n",
    "df['LEITO_CLINICO_AMPLIADO_EM_FUNCIONAMENTO'].unique()"
   ]
  },
  {
   "cell_type": "code",
   "execution_count": 283,
   "metadata": {},
   "outputs": [
    {
     "data": {
      "text/plain": [
       "array([  0,  28,  30,  90,  26, 962, 148,  33,  31,  95,  11,  68,  25,\n",
       "        94,  20,   2,  60,  37,  24,  22,   3,   4,  16,  40,   8,   5])"
      ]
     },
     "execution_count": 283,
     "metadata": {},
     "output_type": "execute_result"
    }
   ],
   "source": [
    "df['LEITO_CLINICO_PARA_AMPLIACAO_FUTURA'] = df['LEITO_CLINICO_PARA_AMPLIACAO_FUTURA'].apply(lambda x: 0 if x == '-' else x).apply(lambda x: int(x) if isinstance(x, str) else 0)\n",
    "df['LEITO_CLINICO_PARA_AMPLIACAO_FUTURA'].unique()"
   ]
  },
  {
   "cell_type": "code",
   "execution_count": 284,
   "metadata": {},
   "outputs": [
    {
     "data": {
      "text/plain": [
       "array([  0,  10,   6,  12,  18,  19,   8,  11,  28,   4,  30,  59,   7,\n",
       "         9,  40,  20, 119,   5,  13,  76,   1,  16,  85,  17,  37,  64,\n",
       "        14,  72,  77,  26,  24, 128, 195,  21,  23,  63,  25, 120,  71,\n",
       "        34,  35,  31,  29,   2,  36,  22,  52,  15, 117,  33])"
      ]
     },
     "execution_count": 284,
     "metadata": {},
     "output_type": "execute_result"
    }
   ],
   "source": [
    "df['UTI_ADULTO_EXISTE'] = df['UTI_ADULTO_EXISTE'].apply(lambda x: 0 if x == '-' else x).apply(lambda x: int(x) if isinstance(x, str) else 0)\n",
    "df['UTI_ADULTO_EXISTE'].unique()"
   ]
  },
  {
   "cell_type": "code",
   "execution_count": 285,
   "metadata": {},
   "outputs": [
    {
     "data": {
      "text/plain": [
       "array([  0,  10,   6,  18,  19,   8,  11,  20,   4,  30,  59,   7,  40,\n",
       "         9,  12, 119,  22,   2,  62,  16,  85,  17,  13,  14,  58,  74,\n",
       "        15,  24, 128,  50,  21,  55,   5,  28,  31,   1,   3,  27,  26,\n",
       "        52,  98,  25,  34])"
      ]
     },
     "execution_count": 285,
     "metadata": {},
     "output_type": "execute_result"
    }
   ],
   "source": [
    "df['UTI_ADULTO_SUS'] = df['UTI_ADULTO_SUS'].apply(lambda x: 0 if x == '-' else x).apply(lambda x: int(x) if isinstance(x, str) else 0)\n",
    "df['UTI_ADULTO_SUS'].unique()"
   ]
  },
  {
   "cell_type": "code",
   "execution_count": 286,
   "metadata": {},
   "outputs": [
    {
     "data": {
      "text/plain": [
       "array([  0,   1,  15,  10,   5,   2,  20,  27,  29,   3,  11,  12,   4,\n",
       "        13,   8,   9,  19,  22,   6, 106,   7,  30,  16,  58])"
      ]
     },
     "execution_count": 286,
     "metadata": {},
     "output_type": "execute_result"
    }
   ],
   "source": [
    "df['UTI_ADULTO_EXISTENTE_CONVERTIDO_PARA_COVID'] = df['UTI_ADULTO_EXISTENTE_CONVERTIDO_PARA_COVID'].apply(lambda x: 0 if x == '-' else x).apply(lambda x: int(x) if isinstance(x, str) else 0)\n",
    "df['UTI_ADULTO_EXISTENTE_CONVERTIDO_PARA_COVID'].unique()"
   ]
  },
  {
   "cell_type": "code",
   "execution_count": 287,
   "metadata": {},
   "outputs": [
    {
     "data": {
      "text/plain": [
       "array([ 0, 23, 12, 20, 10,  9, 15, 30, 90, 11, 40,  5,  8,  3,  4,  2, 16,\n",
       "        7, 13, 24, 18, 41,  1,  6])"
      ]
     },
     "execution_count": 287,
     "metadata": {},
     "output_type": "execute_result"
    }
   ],
   "source": [
    "df['UTI_ADULTO_AMPLIACAO_HABIMEDIATA_REMESSA_1'] = df['UTI_ADULTO_AMPLIACAO_HABIMEDIATA_REMESSA_1'].apply(lambda x: 0 if x == '-' else x).apply(lambda x: int(x) if isinstance(x, str) else 0)\n",
    "df['UTI_ADULTO_AMPLIACAO_HABIMEDIATA_REMESSA_1'].unique()"
   ]
  },
  {
   "cell_type": "code",
   "execution_count": 288,
   "metadata": {},
   "outputs": [
    {
     "data": {
      "text/plain": [
       "array([ 0, 26, 40, 10,  5,  4, 36,  6,  9, 46,  8, 15,  7, 17])"
      ]
     },
     "execution_count": 288,
     "metadata": {},
     "output_type": "execute_result"
    }
   ],
   "source": [
    "df['UTI_ADULTO_AMPLIACAO_HABIMEDIATA_REMESSA_2'] = df['UTI_ADULTO_AMPLIACAO_HABIMEDIATA_REMESSA_2'].apply(lambda x: 0 if x == '-' else x).apply(lambda x: int(x) if isinstance(x, str) else 0)\n",
    "df['UTI_ADULTO_AMPLIACAO_HABIMEDIATA_REMESSA_2'].unique()"
   ]
  },
  {
   "cell_type": "code",
   "execution_count": 289,
   "metadata": {},
   "outputs": [
    {
     "data": {
      "text/plain": [
       "array([ 0, 18, 10, 13, 20,  5,  8,  7, 11, 50, 56, 30, 25, 74, 60,  2,  9,\n",
       "       19,  6,  1,  3])"
      ]
     },
     "execution_count": 289,
     "metadata": {},
     "output_type": "execute_result"
    }
   ],
   "source": [
    "df['UTI_ADULTO_AMPLIACAO_HABIMEDIATA_REMESSA_3'] = df['UTI_ADULTO_AMPLIACAO_HABIMEDIATA_REMESSA_3'].apply(lambda x: 0 if x == '-' else x).apply(lambda x: int(x) if isinstance(x, str) else 0)\n",
    "df['UTI_ADULTO_AMPLIACAO_HABIMEDIATA_REMESSA_3'].unique()"
   ]
  },
  {
   "cell_type": "code",
   "execution_count": 290,
   "metadata": {},
   "outputs": [
    {
     "data": {
      "text/plain": [
       "array([  0,  10,  16,  28,  70,   1,  40,  21,  30, 120,  20,   6,   4,\n",
       "        22])"
      ]
     },
     "execution_count": 290,
     "metadata": {},
     "output_type": "execute_result"
    }
   ],
   "source": [
    "df['UTI_ADULTO_AMPLIACAO_HABIMEDIATA_REMESSA_4'] = df['UTI_ADULTO_AMPLIACAO_HABIMEDIATA_REMESSA_4'].apply(lambda x: 0 if x == '-' else x).apply(lambda x: int(x) if isinstance(x, str) else 0)\n",
    "df['UTI_ADULTO_AMPLIACAO_HABIMEDIATA_REMESSA_4'].unique()"
   ]
  },
  {
   "cell_type": "code",
   "execution_count": 291,
   "metadata": {},
   "outputs": [
    {
     "data": {
      "text/plain": [
       "array([ 0, 17, 30, 20, 10, 50,  2,  5,  9,  4])"
      ]
     },
     "execution_count": 291,
     "metadata": {},
     "output_type": "execute_result"
    }
   ],
   "source": [
    "df['UTI_ADULTO_AMPLIACAO_HABIMEDIATA_REMESSA_5'] = df['UTI_ADULTO_AMPLIACAO_HABIMEDIATA_REMESSA_5'].apply(lambda x: 0 if x == '-' else x).apply(lambda x: int(x) if isinstance(x, str) else 0)\n",
    "df['UTI_ADULTO_AMPLIACAO_HABIMEDIATA_REMESSA_5'].unique()"
   ]
  },
  {
   "cell_type": "code",
   "execution_count": 292,
   "metadata": {},
   "outputs": [
    {
     "data": {
      "text/plain": [
       "array([  0,   8,  12,  10,  18,  19,   9,  30, 165,  25, 188,  24,   2,\n",
       "        16,   5,  80,  20,   6,  11,  14,  15,   3])"
      ]
     },
     "execution_count": 292,
     "metadata": {},
     "output_type": "execute_result"
    }
   ],
   "source": [
    "df['UTI_ADULTO_AMPLIACAO_HABIMEDIATA_REMESSA_6'] = df['UTI_ADULTO_AMPLIACAO_HABIMEDIATA_REMESSA_6'].apply(lambda x: 0 if x == '-' else x).apply(lambda x: int(x) if isinstance(x, str) else 0)\n",
    "df['UTI_ADULTO_AMPLIACAO_HABIMEDIATA_REMESSA_6'].unique()"
   ]
  },
  {
   "cell_type": "code",
   "execution_count": 296,
   "metadata": {},
   "outputs": [],
   "source": [
    "df.to_csv('./cleanHospitalMap.csv', sep=';', index=False)"
   ]
  },
  {
   "cell_type": "code",
   "execution_count": null,
   "metadata": {},
   "outputs": [],
   "source": []
  }
 ],
 "metadata": {
  "kernelspec": {
   "display_name": "Python 3",
   "language": "python",
   "name": "python3"
  },
  "language_info": {
   "codemirror_mode": {
    "name": "ipython",
    "version": 3
   },
   "file_extension": ".py",
   "mimetype": "text/x-python",
   "name": "python",
   "nbconvert_exporter": "python",
   "pygments_lexer": "ipython3",
   "version": "3.8.2"
  }
 },
 "nbformat": 4,
 "nbformat_minor": 4
}
