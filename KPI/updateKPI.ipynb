{
 "cells": [
  {
   "cell_type": "code",
   "execution_count": 1,
   "metadata": {},
   "outputs": [],
   "source": [
    "import pandas as pd\n",
    "import json"
   ]
  },
  {
   "cell_type": "code",
   "execution_count": 2,
   "metadata": {},
   "outputs": [],
   "source": [
    "LEITOS_E_INTERNACOES_URL = 'https://raw.githubusercontent.com/seade-R/dados-covid-sp/master/data/plano_sp_leitos_internacoes.csv'\n",
    "\n",
    "leitos_e_internacoes = pd.read_csv(LEITOS_E_INTERNACOES_URL, sep=';').T"
   ]
  },
  {
   "cell_type": "code",
   "execution_count": 3,
   "metadata": {},
   "outputs": [
    {
     "output_type": "execute_result",
     "data": {
      "text/plain": "                                        0                1     \\\ndatahora                          2020-05-19       2020-05-19   \nnome_drs              Município de São Paulo  Grande SP Leste   \ntotal_covid_uti_mm7d                 2868,00           329,14   \npop                                 11869660          2977781   \nleitos_pc                              24,16            11,05   \ninternacoes_7d                          5049              596   \ninternacoes_7d_l                        4728              480   \ninternacoes_7v7                         6,79            24,17   \n\n                                 2                3                  4     \\\ndatahora                   2020-05-19       2020-05-19         2020-05-19   \nnome_drs              Grande SP Norte  Grande SP Oeste  Grande SP Sudeste   \ntotal_covid_uti_mm7d            58,14           212,14             536,57   \npop                            603465          1858252            2690590   \nleitos_pc                        9,63            11,42              19,94   \ninternacoes_7d                    120              546                970   \ninternacoes_7d_l                  110              439                825   \ninternacoes_7v7                  9,09            24,37              17,58   \n\n                                    5                 6                  7     \\\ndatahora                      2020-05-19        2020-05-19         2020-05-19   \nnome_drs              Grande SP Sudoeste  DRS 02 Araçatuba  DRS 03 Araraquara   \ntotal_covid_uti_mm7d               98,86             46,71              76,43   \npop                              1138499            764041             991435   \nleitos_pc                           8,68              6,11               7,71   \ninternacoes_7d                       339                44                160   \ninternacoes_7d_l                     288                64                 70   \ninternacoes_7v7                    17,71            -31,25             128,57   \n\n                                         8                9     ...  \\\ndatahora                           2020-05-19       2020-05-19  ...   \nnome_drs              DRS 04 Baixada Santista  DRS 05 Barretos  ...   \ntotal_covid_uti_mm7d                   274,57            54,00  ...   \npop                                   1831884           425090  ...   \nleitos_pc                               14,99            12,70  ...   \ninternacoes_7d                            487               81  ...   \ninternacoes_7d_l                          397               50  ...   \ninternacoes_7v7                         22,67            62,00  ...   \n\n                                1002               1003  \\\ndatahora                  2020-07-01         2020-07-01   \nnome_drs              DRS 09 Marília  DRS 10 Piracicaba   \ntotal_covid_uti_mm7d          124,29             188,14   \npop                          1109670            1539600   \nleitos_pc                      11,20              12,22   \ninternacoes_7d                   206                321   \ninternacoes_7d_l                 208                320   \ninternacoes_7v7                -0,96               0,31   \n\n                                            1004             1005  \\\ndatahora                              2020-07-01       2020-07-01   \nnome_drs              DRS 11 Presidente Prudente  DRS 12 Registro   \ntotal_covid_uti_mm7d                       55,00            27,57   \npop                                       752260           278754   \nleitos_pc                                   7,31             9,89   \ninternacoes_7d                               135               35   \ninternacoes_7d_l                             129               36   \ninternacoes_7v7                             4,65            -2,78   \n\n                                       1006                          1007  \\\ndatahora                         2020-07-01                    2020-07-01   \nnome_drs              DRS 13 Ribeirão Preto  DRS 14 São João da Boa Vista   \ntotal_covid_uti_mm7d                 224,29                         98,71   \npop                                 1477530                        809836   \nleitos_pc                             15,18                         12,19   \ninternacoes_7d                          561                           126   \ninternacoes_7d_l                        446                           104   \ninternacoes_7v7                       25,78                         21,15   \n\n                                              1008             1009  \\\ndatahora                                2020-07-01       2020-07-01   \nnome_drs              DRS 15 São José do Rio Preto  DRS 16 Sorocaba   \ntotal_covid_uti_mm7d                        267,71           235,29   \npop                                        1570421          2461760   \nleitos_pc                                    17,05             9,56   \ninternacoes_7d                                 407              393   \ninternacoes_7d_l                               373              357   \ninternacoes_7v7                               9,12            10,08   \n\n                                1010                 1011  \ndatahora                  2020-07-01           2020-07-01  \nnome_drs              DRS 17 Taubaté  Estado de São Paulo  \ntotal_covid_uti_mm7d          358,71              8982,14  \npop                          2489629             44639899  \nleitos_pc                      14,41                20,12  \ninternacoes_7d                   516                12690  \ninternacoes_7d_l                 542                12987  \ninternacoes_7v7                -4,80                -2,29  \n\n[8 rows x 1012 columns]",
      "text/html": "<div>\n<style scoped>\n    .dataframe tbody tr th:only-of-type {\n        vertical-align: middle;\n    }\n\n    .dataframe tbody tr th {\n        vertical-align: top;\n    }\n\n    .dataframe thead th {\n        text-align: right;\n    }\n</style>\n<table border=\"1\" class=\"dataframe\">\n  <thead>\n    <tr style=\"text-align: right;\">\n      <th></th>\n      <th>0</th>\n      <th>1</th>\n      <th>2</th>\n      <th>3</th>\n      <th>4</th>\n      <th>5</th>\n      <th>6</th>\n      <th>7</th>\n      <th>8</th>\n      <th>9</th>\n      <th>...</th>\n      <th>1002</th>\n      <th>1003</th>\n      <th>1004</th>\n      <th>1005</th>\n      <th>1006</th>\n      <th>1007</th>\n      <th>1008</th>\n      <th>1009</th>\n      <th>1010</th>\n      <th>1011</th>\n    </tr>\n  </thead>\n  <tbody>\n    <tr>\n      <th>datahora</th>\n      <td>2020-05-19</td>\n      <td>2020-05-19</td>\n      <td>2020-05-19</td>\n      <td>2020-05-19</td>\n      <td>2020-05-19</td>\n      <td>2020-05-19</td>\n      <td>2020-05-19</td>\n      <td>2020-05-19</td>\n      <td>2020-05-19</td>\n      <td>2020-05-19</td>\n      <td>...</td>\n      <td>2020-07-01</td>\n      <td>2020-07-01</td>\n      <td>2020-07-01</td>\n      <td>2020-07-01</td>\n      <td>2020-07-01</td>\n      <td>2020-07-01</td>\n      <td>2020-07-01</td>\n      <td>2020-07-01</td>\n      <td>2020-07-01</td>\n      <td>2020-07-01</td>\n    </tr>\n    <tr>\n      <th>nome_drs</th>\n      <td>Município de São Paulo</td>\n      <td>Grande SP Leste</td>\n      <td>Grande SP Norte</td>\n      <td>Grande SP Oeste</td>\n      <td>Grande SP Sudeste</td>\n      <td>Grande SP Sudoeste</td>\n      <td>DRS 02 Araçatuba</td>\n      <td>DRS 03 Araraquara</td>\n      <td>DRS 04 Baixada Santista</td>\n      <td>DRS 05 Barretos</td>\n      <td>...</td>\n      <td>DRS 09 Marília</td>\n      <td>DRS 10 Piracicaba</td>\n      <td>DRS 11 Presidente Prudente</td>\n      <td>DRS 12 Registro</td>\n      <td>DRS 13 Ribeirão Preto</td>\n      <td>DRS 14 São João da Boa Vista</td>\n      <td>DRS 15 São José do Rio Preto</td>\n      <td>DRS 16 Sorocaba</td>\n      <td>DRS 17 Taubaté</td>\n      <td>Estado de São Paulo</td>\n    </tr>\n    <tr>\n      <th>total_covid_uti_mm7d</th>\n      <td>2868,00</td>\n      <td>329,14</td>\n      <td>58,14</td>\n      <td>212,14</td>\n      <td>536,57</td>\n      <td>98,86</td>\n      <td>46,71</td>\n      <td>76,43</td>\n      <td>274,57</td>\n      <td>54,00</td>\n      <td>...</td>\n      <td>124,29</td>\n      <td>188,14</td>\n      <td>55,00</td>\n      <td>27,57</td>\n      <td>224,29</td>\n      <td>98,71</td>\n      <td>267,71</td>\n      <td>235,29</td>\n      <td>358,71</td>\n      <td>8982,14</td>\n    </tr>\n    <tr>\n      <th>pop</th>\n      <td>11869660</td>\n      <td>2977781</td>\n      <td>603465</td>\n      <td>1858252</td>\n      <td>2690590</td>\n      <td>1138499</td>\n      <td>764041</td>\n      <td>991435</td>\n      <td>1831884</td>\n      <td>425090</td>\n      <td>...</td>\n      <td>1109670</td>\n      <td>1539600</td>\n      <td>752260</td>\n      <td>278754</td>\n      <td>1477530</td>\n      <td>809836</td>\n      <td>1570421</td>\n      <td>2461760</td>\n      <td>2489629</td>\n      <td>44639899</td>\n    </tr>\n    <tr>\n      <th>leitos_pc</th>\n      <td>24,16</td>\n      <td>11,05</td>\n      <td>9,63</td>\n      <td>11,42</td>\n      <td>19,94</td>\n      <td>8,68</td>\n      <td>6,11</td>\n      <td>7,71</td>\n      <td>14,99</td>\n      <td>12,70</td>\n      <td>...</td>\n      <td>11,20</td>\n      <td>12,22</td>\n      <td>7,31</td>\n      <td>9,89</td>\n      <td>15,18</td>\n      <td>12,19</td>\n      <td>17,05</td>\n      <td>9,56</td>\n      <td>14,41</td>\n      <td>20,12</td>\n    </tr>\n    <tr>\n      <th>internacoes_7d</th>\n      <td>5049</td>\n      <td>596</td>\n      <td>120</td>\n      <td>546</td>\n      <td>970</td>\n      <td>339</td>\n      <td>44</td>\n      <td>160</td>\n      <td>487</td>\n      <td>81</td>\n      <td>...</td>\n      <td>206</td>\n      <td>321</td>\n      <td>135</td>\n      <td>35</td>\n      <td>561</td>\n      <td>126</td>\n      <td>407</td>\n      <td>393</td>\n      <td>516</td>\n      <td>12690</td>\n    </tr>\n    <tr>\n      <th>internacoes_7d_l</th>\n      <td>4728</td>\n      <td>480</td>\n      <td>110</td>\n      <td>439</td>\n      <td>825</td>\n      <td>288</td>\n      <td>64</td>\n      <td>70</td>\n      <td>397</td>\n      <td>50</td>\n      <td>...</td>\n      <td>208</td>\n      <td>320</td>\n      <td>129</td>\n      <td>36</td>\n      <td>446</td>\n      <td>104</td>\n      <td>373</td>\n      <td>357</td>\n      <td>542</td>\n      <td>12987</td>\n    </tr>\n    <tr>\n      <th>internacoes_7v7</th>\n      <td>6,79</td>\n      <td>24,17</td>\n      <td>9,09</td>\n      <td>24,37</td>\n      <td>17,58</td>\n      <td>17,71</td>\n      <td>-31,25</td>\n      <td>128,57</td>\n      <td>22,67</td>\n      <td>62,00</td>\n      <td>...</td>\n      <td>-0,96</td>\n      <td>0,31</td>\n      <td>4,65</td>\n      <td>-2,78</td>\n      <td>25,78</td>\n      <td>21,15</td>\n      <td>9,12</td>\n      <td>10,08</td>\n      <td>-4,80</td>\n      <td>-2,29</td>\n    </tr>\n  </tbody>\n</table>\n<p>8 rows × 1012 columns</p>\n</div>"
     },
     "metadata": {},
     "execution_count": 3
    }
   ],
   "source": [
    "leitos_e_internacoes"
   ]
  },
  {
   "cell_type": "code",
   "execution_count": 4,
   "metadata": {
    "tags": []
   },
   "outputs": [],
   "source": [
    "dic = {}\n",
    "\n",
    "for item in leitos_e_internacoes:\n",
    "    datahora, nome_drs, total_uti_mm7d, pop, leitos_pc, internacoes7d, internacoes7d_l, internacoes_7v7 = leitos_e_internacoes[item]\n",
    "\n",
    "    if not nome_drs in dic:\n",
    "        dic[nome_drs] = {}\n",
    "\n",
    "    dic[nome_drs][datahora] = {\n",
    "        'total_uti_mm7d': total_uti_mm7d,\n",
    "        'pop': pop,\n",
    "        'internacoes7d': internacoes7d,\n",
    "        'internacoes7d_l': internacoes7d_l,\n",
    "    }\n"
   ]
  },
  {
   "cell_type": "code",
   "execution_count": 5,
   "metadata": {},
   "outputs": [],
   "source": [
    "with open('data/leitos_e_internacoes.json', 'w') as f:\n",
    "    json.dump(dic, f)"
   ]
  },
  {
   "cell_type": "code",
   "execution_count": 6,
   "metadata": {},
   "outputs": [],
   "source": [
    "CASOS_E_OBITOS_URL = 'https://raw.githubusercontent.com/seade-R/dados-covid-sp/master/data/dados_covid_sp.csv'\n",
    "\n",
    "casos_e_obitos = pd.read_csv(CASOS_E_OBITOS_URL, sep=';').T"
   ]
  },
  {
   "cell_type": "code",
   "execution_count": 7,
   "metadata": {},
   "outputs": [
    {
     "output_type": "execute_result",
     "data": {
      "text/plain": "Index(['nome_munic', 'codigo_ibge', 'dia', 'mes', 'datahora', 'casos',\n       'casos_novos', 'casos_pc', 'casos_mm7d', 'obitos', 'obitos_novos',\n       'obitos_pc', 'obitos_mm7d', 'letalidade', 'nome_ra', 'cod_ra',\n       'nome_drs', 'cod_drs', 'pop', 'pop_60', 'area', 'map_leg', 'map_leg_s',\n       'latitude', 'longitude', 'semana_epidem'],\n      dtype='object')"
     },
     "metadata": {},
     "execution_count": 7
    }
   ],
   "source": [
    "casos_e_obitos.index"
   ]
  },
  {
   "cell_type": "code",
   "execution_count": 16,
   "metadata": {},
   "outputs": [],
   "source": [
    "dic_mun = {}\n",
    "\n",
    "for item in casos_e_obitos:\n",
    "    nome_munic, codigo_ibge, dia, mes, datahora, casos, casos_novos, casos_pc, casos_mm7d, obitos, obitos_novos, obitos_pc, obitos_mm7d, letalidade, nome_ra, cod_ra, nome_drs, cod_drs, pop, pop_60, area, map_leg, map_leg_s, latitude, longitude, semana_epidem = casos_e_obitos[item]\n",
    "\n",
    "    if not nome_munic in dic_mun:\n",
    "        dic_mun[nome_munic] = {}\n",
    "\n",
    "    dic_mun[nome_munic][datahora] = {\n",
    "        'casos': casos,\n",
    "        'casos_novos': casos_novos,\n",
    "        'casos_pc': casos_pc,\n",
    "        'casos_mm7d': casos_mm7d,\n",
    "        'obitos': obitos,\n",
    "        'obitos_novos': obitos_novos,\n",
    "        'obitos_mm7d': obitos_mm7d,\n",
    "        'pop': pop,\n",
    "    }\n"
   ]
  },
  {
   "cell_type": "code",
   "execution_count": 17,
   "metadata": {},
   "outputs": [],
   "source": [
    "with open('data/casos_e_obitos.json', 'w') as f:\n",
    "    json.dump(dic_mun, f)"
   ]
  },
  {
   "cell_type": "code",
   "execution_count": 10,
   "metadata": {},
   "outputs": [],
   "source": [
    "drs_info = {}\n",
    "\n",
    "drs_info['Grande SP Norte'] = ['Caieiras', 'Cajamar', 'Francisco Morato', 'Franco da Rocha', 'Mairiporã']\n",
    "\n",
    "drs_info['Grande SP Leste'] = ['Arujá',  'Biritiba Mirim',  'Ferraz de Vasconcelos',  'Guararema',  'Guarulhos', 'Itaquaquecetuba', 'Mogi das Cruzes', 'Poá', 'Salesópolis', 'Santa Isabel', 'Suzano']\n",
    "\n",
    "drs_info['Grande SP Sudeste'] = ['Diadema', 'Mauá', 'Ribeirão Pires', 'Rio Grande da Serra', 'Santo André', 'São Bernardo do Campo', 'São Caetano do Sul']\n",
    "\n",
    "drs_info['Grande SP Sudoeste'] = ['Cotia',  'Embu das Artes', 'Embu-Guaçu', 'Itapecerica da Serra', 'Juquitiba', 'São Lourenço da Serra', 'Taboão da Serra' 'Vargem Grande Paulista']\n",
    "\n",
    "drs_info['Grande SP Oeste'] = ['Barueri', 'Carapicuíba', 'Itapevi', 'Jandira', 'Osasco', 'Pirapora do Bom Jesus', 'Santana de Parnaíba']\n",
    "\n",
    "for item in casos_e_obitos:\n",
    "    nome_munic, codigo_ibge, dia, mes, datahora, casos, casos_novos, casos_pc, casos_mm7d, obitos, obitos_novos, obitos_pc, obitos_mm7d, letalidade, nome_ra, cod_ra, nome_drs, cod_drs, pop, pop_60, area, map_leg, map_leg_s, latitude, longitude, semana_epidem = casos_e_obitos[item]\n",
    "\n",
    "    if not nome_drs in drs_info:\n",
    "        drs_info[nome_drs] = {'mun_list': []}\n",
    "\n",
    "    if not codigo_ibge in drs_info[nome_drs]['mun_list']:\n",
    "        drs_info[nome_drs]['mun_list'].append(codigo_ibge)"
   ]
  },
  {
   "cell_type": "code",
   "execution_count": 30,
   "metadata": {},
   "outputs": [],
   "source": [
    "\n"
   ]
  },
  {
   "cell_type": "code",
   "execution_count": null,
   "metadata": {},
   "outputs": [],
   "source": []
  }
 ],
 "metadata": {
  "language_info": {
   "codemirror_mode": {
    "name": "ipython",
    "version": 3
   },
   "file_extension": ".py",
   "mimetype": "text/x-python",
   "name": "python",
   "nbconvert_exporter": "python",
   "pygments_lexer": "ipython3",
   "version": "3.8.2-final"
  },
  "orig_nbformat": 2,
  "kernelspec": {
   "name": "python38264bitea089eec03374969abc758946d5e119f",
   "display_name": "Python 3.8.2 64-bit"
  }
 },
 "nbformat": 4,
 "nbformat_minor": 2
}